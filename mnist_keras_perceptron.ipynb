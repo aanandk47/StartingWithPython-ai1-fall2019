{
  "nbformat": 4,
  "nbformat_minor": 0,
  "metadata": {
    "colab": {
      "name": "mnist-keras-perceptron.ipynb",
      "provenance": [],
      "collapsed_sections": [],
      "include_colab_link": true
    },
    "kernelspec": {
      "name": "python3",
      "display_name": "Python 3"
    },
    "accelerator": "GPU"
  },
  "cells": [
    {
      "cell_type": "markdown",
      "metadata": {
        "id": "view-in-github",
        "colab_type": "text"
      },
      "source": [
        "<a href=\"https://colab.research.google.com/github/aanandk47/StartingWithPython-ai1-fall2019/blob/master/mnist_keras_perceptron.ipynb\" target=\"_parent\"><img src=\"https://colab.research.google.com/assets/colab-badge.svg\" alt=\"Open In Colab\"/></a>"
      ]
    },
    {
      "cell_type": "code",
      "metadata": {
        "id": "0rrbVKm5n6E3",
        "colab_type": "code",
        "outputId": "c5177e17-d234-4dab-ece9-16777ec203ab",
        "colab": {
          "base_uri": "https://localhost:8080/",
          "height": 34
        }
      },
      "source": [
        "# taken from lukas/ml-class\n",
        "import numpy as np\n",
        "from keras.datasets import mnist\n",
        "from keras.models import Sequential\n",
        "from keras.layers import Dense, Flatten, Dropout\n",
        "from keras.utils import np_utils\n",
        "from keras.callbacks import Callback\n",
        "import json\n",
        "\n",
        "# from wandb.keras import WandbCallback\n",
        "# import wandb\n",
        "\n",
        "# run = wandb.init()\n",
        "# config = run.config\n",
        "\n",
        "\n",
        "\n",
        "\n",
        "\n"
      ],
      "execution_count": 2,
      "outputs": [
        {
          "output_type": "stream",
          "text": [
            "Using TensorFlow backend.\n"
          ],
          "name": "stderr"
        }
      ]
    },
    {
      "cell_type": "code",
      "metadata": {
        "id": "si8ko7pvVBxT",
        "colab_type": "code",
        "colab": {}
      },
      "source": [
        ""
      ],
      "execution_count": 0,
      "outputs": []
    },
    {
      "cell_type": "markdown",
      "metadata": {
        "id": "eNFPiCXKVC9s",
        "colab_type": "text"
      },
      "source": [
        "### Hello World\n",
        "\n",
        "1. One\n",
        "2. Two\n",
        "3. Three\n",
        "\n",
        "kwewkelvn r\n",
        "\n",
        "- hell\n",
        "- hello\n",
        "the $\\alpha$ is a greek\n",
        "$$\\alpha + \\beta + \\gamma = \\delta$$\n",
        "___\n",
        "*alpha* **alpha**\n",
        "$\\$"
      ]
    },
    {
      "cell_type": "code",
      "metadata": {
        "id": "sbnCewc8YTSR",
        "colab_type": "code",
        "colab": {
          "base_uri": "https://localhost:8080/",
          "height": 34
        },
        "outputId": "ef8370af-ddf8-4d63-ceba-61861ef36a77"
      },
      "source": [
        "a = (1,2)\n",
        "type(a)"
      ],
      "execution_count": 9,
      "outputs": [
        {
          "output_type": "execute_result",
          "data": {
            "text/plain": [
              "tuple"
            ]
          },
          "metadata": {
            "tags": []
          },
          "execution_count": 9
        }
      ]
    },
    {
      "cell_type": "code",
      "metadata": {
        "id": "qn2KDwx-UQq8",
        "colab_type": "code",
        "colab": {
          "base_uri": "https://localhost:8080/",
          "height": 67
        },
        "outputId": "27076db7-0d80-48ff-bbef-e73ff6445b8f"
      },
      "source": [
        "class Config:\n",
        "  pass\n",
        "\n",
        "config = Config()\n",
        "config.optimizer = \"adam\"\n",
        "config.epochs = 30\n",
        "config.hidden_nodes = 30\n",
        "\n",
        "# load data\n",
        "(X_train, y_train), (X_test, y_test) = mnist.load_data()\n",
        "img_width = X_train.shape[1]\n",
        "img_height = X_train.shape[2]\n",
        "print(X_train.shape, y_train.shape)\n",
        "#X_train = X_train.astype('float32')\n",
        "#X_train /= 255.\n",
        "#X_test = X_test.astype('float32')\n",
        "#X_test /= 255.\n",
        "\n",
        "# Normalize, change learning rate, play with layer size, batchsize\n",
        "\n",
        "# one hot encode outputs\n",
        "y_train = np_utils.to_categorical(y_train)\n",
        "y_test = np_utils.to_categorical(y_test)\n",
        "labels = range(10)\n",
        "\n",
        "num_classes = y_train.shape[1]"
      ],
      "execution_count": 3,
      "outputs": [
        {
          "output_type": "stream",
          "text": [
            "Downloading data from https://s3.amazonaws.com/img-datasets/mnist.npz\n",
            "11493376/11490434 [==============================] - 2s 0us/step\n",
            "(60000, 28, 28) (60000,)\n"
          ],
          "name": "stdout"
        }
      ]
    },
    {
      "cell_type": "code",
      "metadata": {
        "id": "6pN2-A5wYY7o",
        "colab_type": "code",
        "colab": {
          "base_uri": "https://localhost:8080/",
          "height": 34
        },
        "outputId": "3e14f366-1df1-4d34-cf04-05c7573f4ba3"
      },
      "source": [
        "a"
      ],
      "execution_count": 10,
      "outputs": [
        {
          "output_type": "execute_result",
          "data": {
            "text/plain": [
              "(1, 2)"
            ]
          },
          "metadata": {
            "tags": []
          },
          "execution_count": 10
        }
      ]
    },
    {
      "cell_type": "code",
      "metadata": {
        "id": "RixHXGTJUTzF",
        "colab_type": "code",
        "colab": {
          "base_uri": "https://localhost:8080/",
          "height": 474
        },
        "outputId": "067761f3-8335-42cf-843b-fbe1e67caa96"
      },
      "source": [
        "# create model\n",
        "model = Sequential()\n",
        "model.add(Flatten(input_shape=(img_width, img_height)))\n",
        "model.add(Dense(config.hidden_nodes, activation='relu'))\n",
        "model.add(Dense(config.hidden_nodes, activation='relu'))\n",
        "model.add(Dense(num_classes, activation='softmax'))\n",
        "model.compile(loss='categorical_crossentropy', optimizer=config.optimizer,\n",
        "              metrics=['accuracy'])\n",
        "model.summary()"
      ],
      "execution_count": 4,
      "outputs": [
        {
          "output_type": "stream",
          "text": [
            "WARNING:tensorflow:From /usr/local/lib/python3.6/dist-packages/keras/backend/tensorflow_backend.py:66: The name tf.get_default_graph is deprecated. Please use tf.compat.v1.get_default_graph instead.\n",
            "\n",
            "WARNING:tensorflow:From /usr/local/lib/python3.6/dist-packages/keras/backend/tensorflow_backend.py:541: The name tf.placeholder is deprecated. Please use tf.compat.v1.placeholder instead.\n",
            "\n",
            "WARNING:tensorflow:From /usr/local/lib/python3.6/dist-packages/keras/backend/tensorflow_backend.py:4432: The name tf.random_uniform is deprecated. Please use tf.random.uniform instead.\n",
            "\n",
            "WARNING:tensorflow:From /usr/local/lib/python3.6/dist-packages/keras/optimizers.py:793: The name tf.train.Optimizer is deprecated. Please use tf.compat.v1.train.Optimizer instead.\n",
            "\n",
            "WARNING:tensorflow:From /usr/local/lib/python3.6/dist-packages/keras/backend/tensorflow_backend.py:3576: The name tf.log is deprecated. Please use tf.math.log instead.\n",
            "\n",
            "Model: \"sequential_1\"\n",
            "_________________________________________________________________\n",
            "Layer (type)                 Output Shape              Param #   \n",
            "=================================================================\n",
            "flatten_1 (Flatten)          (None, 784)               0         \n",
            "_________________________________________________________________\n",
            "dense_1 (Dense)              (None, 30)                23550     \n",
            "_________________________________________________________________\n",
            "dense_2 (Dense)              (None, 30)                930       \n",
            "_________________________________________________________________\n",
            "dense_3 (Dense)              (None, 10)                310       \n",
            "=================================================================\n",
            "Total params: 24,790\n",
            "Trainable params: 24,790\n",
            "Non-trainable params: 0\n",
            "_________________________________________________________________\n"
          ],
          "name": "stdout"
        }
      ]
    },
    {
      "cell_type": "code",
      "metadata": {
        "id": "4QGTIz0AUXYp",
        "colab_type": "code",
        "colab": {
          "base_uri": "https://localhost:8080/",
          "height": 1000
        },
        "outputId": "1ec23561-32c5-4f45-8ffb-ea00f7dc61b9"
      },
      "source": [
        "# Fit the model\n",
        "model.fit(X_train, y_train, validation_data=(X_test, y_test),\n",
        "          epochs=config.epochs)"
      ],
      "execution_count": 5,
      "outputs": [
        {
          "output_type": "stream",
          "text": [
            "WARNING:tensorflow:From /usr/local/lib/python3.6/dist-packages/tensorflow/python/ops/math_grad.py:1250: add_dispatch_support.<locals>.wrapper (from tensorflow.python.ops.array_ops) is deprecated and will be removed in a future version.\n",
            "Instructions for updating:\n",
            "Use tf.where in 2.0, which has the same broadcast rule as np.where\n",
            "WARNING:tensorflow:From /usr/local/lib/python3.6/dist-packages/keras/backend/tensorflow_backend.py:1033: The name tf.assign_add is deprecated. Please use tf.compat.v1.assign_add instead.\n",
            "\n",
            "Train on 60000 samples, validate on 10000 samples\n",
            "Epoch 1/30\n",
            "60000/60000 [==============================] - 14s 230us/step - loss: 10.1729 - acc: 0.3642 - val_loss: 9.1234 - val_acc: 0.4306\n",
            "Epoch 2/30\n",
            "60000/60000 [==============================] - 10s 160us/step - loss: 8.0231 - acc: 0.4989 - val_loss: 7.5423 - val_acc: 0.5296\n",
            "Epoch 3/30\n",
            "60000/60000 [==============================] - 10s 160us/step - loss: 6.0057 - acc: 0.6232 - val_loss: 4.8113 - val_acc: 0.6981\n",
            "Epoch 4/30\n",
            "60000/60000 [==============================] - 10s 159us/step - loss: 4.6505 - acc: 0.7086 - val_loss: 4.4987 - val_acc: 0.7186\n",
            "Epoch 5/30\n",
            "60000/60000 [==============================] - 10s 160us/step - loss: 4.4648 - acc: 0.7200 - val_loss: 3.9132 - val_acc: 0.7523\n",
            "Epoch 6/30\n",
            "60000/60000 [==============================] - 10s 159us/step - loss: 3.3868 - acc: 0.7869 - val_loss: 3.3026 - val_acc: 0.7930\n",
            "Epoch 7/30\n",
            "60000/60000 [==============================] - 10s 161us/step - loss: 3.2255 - acc: 0.7973 - val_loss: 3.3095 - val_acc: 0.7917\n",
            "Epoch 8/30\n",
            "60000/60000 [==============================] - 10s 159us/step - loss: 3.0968 - acc: 0.8060 - val_loss: 3.0522 - val_acc: 0.8091\n",
            "Epoch 9/30\n",
            "60000/60000 [==============================] - 10s 160us/step - loss: 3.0972 - acc: 0.8060 - val_loss: 3.3047 - val_acc: 0.7934\n",
            "Epoch 10/30\n",
            "60000/60000 [==============================] - 9s 158us/step - loss: 3.1216 - acc: 0.8049 - val_loss: 3.2527 - val_acc: 0.7961\n",
            "Epoch 11/30\n",
            "60000/60000 [==============================] - 9s 158us/step - loss: 2.9968 - acc: 0.8125 - val_loss: 3.0690 - val_acc: 0.8080\n",
            "Epoch 12/30\n",
            "60000/60000 [==============================] - 10s 159us/step - loss: 3.0274 - acc: 0.8106 - val_loss: 2.9528 - val_acc: 0.8155\n",
            "Epoch 13/30\n",
            "60000/60000 [==============================] - 10s 159us/step - loss: 3.0769 - acc: 0.8079 - val_loss: 3.0476 - val_acc: 0.8097\n",
            "Epoch 14/30\n",
            "60000/60000 [==============================] - 9s 157us/step - loss: 3.1145 - acc: 0.8057 - val_loss: 3.2026 - val_acc: 0.8001\n",
            "Epoch 15/30\n",
            "60000/60000 [==============================] - 9s 157us/step - loss: 3.0745 - acc: 0.8082 - val_loss: 3.0533 - val_acc: 0.8099\n",
            "Epoch 16/30\n",
            "60000/60000 [==============================] - 9s 158us/step - loss: 3.0259 - acc: 0.8112 - val_loss: 2.9483 - val_acc: 0.8164\n",
            "Epoch 17/30\n",
            "60000/60000 [==============================] - 10s 159us/step - loss: 3.0207 - acc: 0.8116 - val_loss: 3.0079 - val_acc: 0.8123\n",
            "Epoch 18/30\n",
            "60000/60000 [==============================] - 10s 160us/step - loss: 3.0091 - acc: 0.8124 - val_loss: 2.8471 - val_acc: 0.8223\n",
            "Epoch 19/30\n",
            "60000/60000 [==============================] - 9s 158us/step - loss: 3.0224 - acc: 0.8115 - val_loss: 3.3265 - val_acc: 0.7928\n",
            "Epoch 20/30\n",
            "60000/60000 [==============================] - 10s 159us/step - loss: 2.8824 - acc: 0.8202 - val_loss: 2.9411 - val_acc: 0.8165\n",
            "Epoch 21/30\n",
            "60000/60000 [==============================] - 10s 158us/step - loss: 2.8757 - acc: 0.8206 - val_loss: 2.9283 - val_acc: 0.8177\n",
            "Epoch 22/30\n",
            "60000/60000 [==============================] - 10s 159us/step - loss: 2.8491 - acc: 0.8225 - val_loss: 2.9438 - val_acc: 0.8160\n",
            "Epoch 23/30\n",
            "60000/60000 [==============================] - 10s 160us/step - loss: 2.9227 - acc: 0.8179 - val_loss: 2.9048 - val_acc: 0.8190\n",
            "Epoch 24/30\n",
            "60000/60000 [==============================] - 9s 158us/step - loss: 2.8931 - acc: 0.8197 - val_loss: 2.9130 - val_acc: 0.8184\n",
            "Epoch 25/30\n",
            "60000/60000 [==============================] - 9s 157us/step - loss: 2.8605 - acc: 0.8219 - val_loss: 2.8198 - val_acc: 0.8244\n",
            "Epoch 26/30\n",
            "60000/60000 [==============================] - 9s 158us/step - loss: 2.9253 - acc: 0.8179 - val_loss: 3.0038 - val_acc: 0.8130\n",
            "Epoch 27/30\n",
            "60000/60000 [==============================] - 9s 156us/step - loss: 2.9019 - acc: 0.8194 - val_loss: 3.0665 - val_acc: 0.8086\n",
            "Epoch 28/30\n",
            "60000/60000 [==============================] - 10s 159us/step - loss: 2.8684 - acc: 0.8215 - val_loss: 3.1690 - val_acc: 0.8028\n",
            "Epoch 29/30\n",
            "60000/60000 [==============================] - 9s 158us/step - loss: 2.9394 - acc: 0.8169 - val_loss: 3.2003 - val_acc: 0.8008\n",
            "Epoch 30/30\n",
            "60000/60000 [==============================] - 10s 163us/step - loss: 2.8382 - acc: 0.8233 - val_loss: 2.8733 - val_acc: 0.8212\n"
          ],
          "name": "stdout"
        },
        {
          "output_type": "execute_result",
          "data": {
            "text/plain": [
              "<keras.callbacks.History at 0x7f90d8120358>"
            ]
          },
          "metadata": {
            "tags": []
          },
          "execution_count": 5
        }
      ]
    },
    {
      "cell_type": "code",
      "metadata": {
        "id": "Nz08LB8vyx6z",
        "colab_type": "code",
        "colab": {}
      },
      "source": [
        ""
      ],
      "execution_count": 0,
      "outputs": []
    }
  ]
}